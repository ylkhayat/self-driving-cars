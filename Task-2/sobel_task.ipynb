{
  "nbformat": 4,
  "nbformat_minor": 0,
  "metadata": {
    "kernelspec": {
      "display_name": "Python 3",
      "language": "python",
      "name": "python3"
    },
    "language_info": {
      "codemirror_mode": {
        "name": "ipython",
        "version": 3
      },
      "file_extension": ".py",
      "mimetype": "text/x-python",
      "name": "python",
      "nbconvert_exporter": "python",
      "pygments_lexer": "ipython3",
      "version": "3.5.2"
    },
    "colab": {
      "name": "sobel_task.ipynb",
      "provenance": [],
      "collapsed_sections": []
    }
  },
  "cells": [
    {
      "cell_type": "code",
      "metadata": {
        "id": "lee9qR9k_AJv",
        "colab_type": "code",
        "colab": {}
      },
      "source": [
        "import numpy as np\n",
        "import cv2\n",
        "import matplotlib.pyplot as plt\n",
        "import matplotlib.image as mpimg\n",
        "%matplotlib inline"
      ],
      "execution_count": 0,
      "outputs": []
    },
    {
      "cell_type": "markdown",
      "metadata": {
        "id": "xGCZWwiq_AJ4",
        "colab_type": "text"
      },
      "source": [
        "## Load Task Image"
      ]
    },
    {
      "cell_type": "code",
      "metadata": {
        "id": "DgLQrQkx_AJ5",
        "colab_type": "code",
        "colab": {}
      },
      "source": [
        "task_image = mpimg.imread('./test5.jpg')\n",
        "f, (ax1) = plt.subplots(1, 1, figsize=(20,10))\n",
        "ax1.imshow(task_image)"
      ],
      "execution_count": 0,
      "outputs": []
    },
    {
      "cell_type": "markdown",
      "metadata": {
        "id": "rxptzu2D_AJ-",
        "colab_type": "text"
      },
      "source": [
        "## Sobel X / Y Threshold"
      ]
    },
    {
      "cell_type": "code",
      "metadata": {
        "id": "r1i8mvLs_AJ_",
        "colab_type": "code",
        "colab": {}
      },
      "source": [
        "# X or Y sobel gradient\n",
        "def abs_sobel_thresh(image, orient='x', sobel_kernel=3, thresh=(0, 255)):\n",
        "    # TODO: Convert to grayscale using cv2.COLOR_RGB2GRAY as the conversion\n",
        "    \n",
        "    # TODO: Apply x or y gradient with the OpenCV Sobel() function\n",
        "    # and take the absolute value\n",
        "   \n",
        "    # TODO: Rescale back to 8 bit integer\n",
        "    abs_sobel = np.uint8(255*abs_sobel/np.max(abs_sobel))\n",
        "    \n",
        "    # TODO: Create a binary image of ones where threshold is met, zeros otherwise\n",
        "    abs_sobel_output = np.zeros_like(abs_sobel)\n",
        "    \n",
        "\n",
        "    # Return the binary image\n",
        "    return abs_sobel_output"
      ],
      "execution_count": 0,
      "outputs": []
    },
    {
      "cell_type": "markdown",
      "metadata": {
        "id": "l1gLGjWB_AKD",
        "colab_type": "text"
      },
      "source": [
        "## Sobel Magnitude Threshold"
      ]
    },
    {
      "cell_type": "code",
      "metadata": {
        "id": "W_7TkTgX_AKE",
        "colab_type": "code",
        "colab": {}
      },
      "source": [
        "# Magnitude using X and Y sobel gradient\n",
        "def mag_thresh(image, sobel_kernel=3, mag_thresh=(0, 255)):\n",
        "    # TODO: Convert to grayscale using cv2.COLOR_RGB2GRAY as the conversion\n",
        "   \n",
        "    # TODO: Calculate the gradient magnitude\n",
        "    \n",
        "    # TODO:  Rescale to 8 bit\n",
        "    gradmag = np.uint8(255*gradmag/np.max(gradmag))\n",
        "   \n",
        "    # TODO: Create a binary image of ones where threshold is met, zeros otherwise\n",
        "    mag_binary = np.zeros_like(gradmag)\n",
        "   \n",
        "\n",
        "    # Return the binary image\n",
        "    return mag_binary"
      ],
      "execution_count": 0,
      "outputs": []
    },
    {
      "cell_type": "markdown",
      "metadata": {
        "id": "OVo6rbab_AKI",
        "colab_type": "text"
      },
      "source": [
        "## Sobel Direction Threshold"
      ]
    },
    {
      "cell_type": "code",
      "metadata": {
        "id": "N9U48Gfg_AKJ",
        "colab_type": "code",
        "colab": {}
      },
      "source": [
        "# Direction using X and Y sobel gradient\n",
        "def dir_threshold(image, sobel_kernel=3, thresh=(0, np.pi/2)):\n",
        "    # TODO: Convert to grayscale using cv2.COLOR_RGB2GRAY as the conversion\n",
        "    \n",
        "    # TODO: Calculate the gradient direction using np.arctan2 function\n",
        "    \n",
        "    # TODO: Rescale to 8 bit\n",
        "    absgraddir = np.uint8(255*absgraddir/np.max(absgraddir))\n",
        "   \n",
        "    # TODO: Create a binary image of ones where threshold is met, zeros otherwise    \n",
        "    dir_binary =  np.zeros_like(absgraddir)\n",
        "\n",
        "    # Return the binary image\n",
        "    return dir_binary"
      ],
      "execution_count": 0,
      "outputs": []
    },
    {
      "cell_type": "markdown",
      "metadata": {
        "id": "p6wPNpGq_AKO",
        "colab_type": "text"
      },
      "source": [
        "## Visualize Sobel Thresholds Results"
      ]
    },
    {
      "cell_type": "code",
      "metadata": {
        "id": "ovHa09rd_AKP",
        "colab_type": "code",
        "colab": {}
      },
      "source": [
        "#TODO: Visualize the following:\n",
        "\n",
        "# X gradient\n",
        "\n",
        "# Y gradient\n",
        "\n",
        "# Sobel gradient direction\n",
        "\n",
        "# Sobel gradient magnitude\n",
        "\n",
        "\n",
        "# visualize results\n",
        "f, (ax1,ax2,ax3,ax4) = plt.subplots(1, 4, figsize=(20,10))\n",
        "# X gradient\n",
        "ax1.set_title('X gradient', fontsize=20)\n",
        "ax1.imshow(x_sobel,cmap='gray')\n",
        "# Y gradient\n",
        "ax2.set_title('Y gradient', fontsize=20)\n",
        "ax2.imshow(y_sobel,cmap='gray')\n",
        "# Sobel gradient direction\n",
        "ax3.set_title('Sobel gradient direction', fontsize=20)\n",
        "ax3.imshow(dir_sobel,cmap='gray')\n",
        "# Sobel gradient magnitude\n",
        "ax4.set_title('Sobel gradient magnitud', fontsize=20)\n",
        "ax4.imshow(mag_sobel,cmap='gray')"
      ],
      "execution_count": 0,
      "outputs": []
    }
  ]
}