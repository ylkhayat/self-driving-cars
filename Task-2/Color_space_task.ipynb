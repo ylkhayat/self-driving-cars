{
  "nbformat": 4,
  "nbformat_minor": 0,
  "metadata": {
    "kernelspec": {
      "display_name": "Python 3",
      "language": "python",
      "name": "python3"
    },
    "language_info": {
      "codemirror_mode": {
        "name": "ipython",
        "version": 3
      },
      "file_extension": ".py",
      "mimetype": "text/x-python",
      "name": "python",
      "nbconvert_exporter": "python",
      "pygments_lexer": "ipython3",
      "version": "3.5.2"
    },
    "colab": {
      "name": "Color_space_task.ipynb",
      "provenance": [],
      "collapsed_sections": [],
      "toc_visible": true
    }
  },
  "cells": [
    {
      "cell_type": "code",
      "metadata": {
        "id": "1TvKhv0p9Fsb",
        "colab_type": "code",
        "colab": {}
      },
      "source": [
        "import numpy as np\n",
        "import cv2\n",
        "import matplotlib.pyplot as plt\n",
        "import matplotlib.image as mpimg\n",
        "%matplotlib inline"
      ],
      "execution_count": 0,
      "outputs": []
    },
    {
      "cell_type": "markdown",
      "metadata": {
        "id": "N_6EPJcu9Fsj",
        "colab_type": "text"
      },
      "source": [
        "## Load Task Image"
      ]
    },
    {
      "cell_type": "code",
      "metadata": {
        "id": "rQrmZwaV9Fsk",
        "colab_type": "code",
        "colab": {}
      },
      "source": [
        "task_image = mpimg.imread('./test5.jpg')\n",
        "f, (ax1) = plt.subplots(1, 1, figsize=(20,10))\n",
        "ax1.imshow(task_image)"
      ],
      "execution_count": 0,
      "outputs": []
    },
    {
      "cell_type": "markdown",
      "metadata": {
        "id": "mI4sSUwy9Fso",
        "colab_type": "text"
      },
      "source": [
        "## HLS Model"
      ]
    },
    {
      "cell_type": "code",
      "metadata": {
        "id": "k-FsFgxM9Fss",
        "colab_type": "code",
        "colab": {}
      },
      "source": [
        "#TODO: Convert to HLS\n",
        "\n",
        "\n",
        "# visualize\n",
        "f, (ax1,ax2,ax3) = plt.subplots(1, 3, figsize=(20,10))\n",
        "ax1.set_title('h_channel', fontsize=20)\n",
        "ax1.imshow(h_channel,cmap='gray')\n",
        "ax2.set_title('l_channel', fontsize=20)\n",
        "ax2.imshow(l_channel,cmap='gray')\n",
        "ax3.set_title('s_channel', fontsize=20)\n",
        "ax3.imshow(s_channel,cmap='gray')\n",
        "\n"
      ],
      "execution_count": 0,
      "outputs": []
    },
    {
      "cell_type": "markdown",
      "metadata": {
        "id": "kjQsoZce9Fsw",
        "colab_type": "text"
      },
      "source": [
        "## HSV Model"
      ]
    },
    {
      "cell_type": "code",
      "metadata": {
        "id": "UZEoFhtj9Fsx",
        "colab_type": "code",
        "colab": {}
      },
      "source": [
        "#TODO: Convert to HSV\n",
        "\n",
        "# visualize\n",
        "f, (ax1,ax2,ax3) = plt.subplots(1, 3, figsize=(20,10))\n",
        "ax1.set_title('h_channel', fontsize=20)\n",
        "ax1.imshow(h_channel,cmap='gray')\n",
        "ax2.set_title('s_channel', fontsize=20)\n",
        "ax2.imshow(s_channel,cmap='gray')\n",
        "ax3.set_title('v_channel', fontsize=20)\n",
        "ax3.imshow(v_channel,cmap='gray')"
      ],
      "execution_count": 0,
      "outputs": []
    },
    {
      "cell_type": "markdown",
      "metadata": {
        "id": "d6IBJMYs9Fs1",
        "colab_type": "text"
      },
      "source": [
        "## LAB Model"
      ]
    },
    {
      "cell_type": "code",
      "metadata": {
        "id": "S9OYGAuY9Fs2",
        "colab_type": "code",
        "colab": {}
      },
      "source": [
        "#TODO: Convert to LAB\n",
        "\n",
        "# visualize\n",
        "f, (ax1,ax2,ax3) = plt.subplots(1, 3, figsize=(20,10))\n",
        "ax1.set_title('l_channel', fontsize=20)\n",
        "ax1.imshow(l_channel,cmap='gray')\n",
        "ax2.set_title('a_channel', fontsize=20)\n",
        "ax2.imshow(a_channel,cmap='gray')\n",
        "ax3.set_title('b_channel', fontsize=20)\n",
        "ax3.imshow(b_channel,cmap='gray')"
      ],
      "execution_count": 0,
      "outputs": []
    },
    {
      "cell_type": "markdown",
      "metadata": {
        "id": "M1JcJuE19Fs6",
        "colab_type": "text"
      },
      "source": [
        "## RGB Model"
      ]
    },
    {
      "cell_type": "code",
      "metadata": {
        "id": "sLjmlOUw9Fs7",
        "colab_type": "code",
        "colab": {}
      },
      "source": [
        "\n",
        "\n",
        "#Visualize\n",
        "f, (ax1,ax2,ax3) = plt.subplots(1, 3, figsize=(20,10))\n",
        "ax1.set_title('r_channel', fontsize=20)\n",
        "ax1.imshow(r_channel,cmap='gray')\n",
        "ax2.set_title('g_channel', fontsize=20)\n",
        "ax2.imshow(g_channel,cmap='gray')\n",
        "ax3.set_title('b_channel', fontsize=20)\n",
        "ax3.imshow(b_channel,cmap='gray')"
      ],
      "execution_count": 0,
      "outputs": []
    },
    {
      "cell_type": "markdown",
      "metadata": {
        "id": "shgYEgUG9Fs_",
        "colab_type": "text"
      },
      "source": [
        "## Color Threshold for The White Line"
      ]
    },
    {
      "cell_type": "code",
      "metadata": {
        "id": "Z_7Y6skZ9FtA",
        "colab_type": "code",
        "colab": {}
      },
      "source": [
        "def white(img, white_thresh = (220,255)):\n",
        "   \n",
        "   \n",
        "    #TODO: masking\n",
        "    binary = np.zeros_like(channel)\n",
        "     \n",
        "    return binary"
      ],
      "execution_count": 0,
      "outputs": []
    },
    {
      "cell_type": "markdown",
      "metadata": {
        "id": "HGfeaQOQ9FtD",
        "colab_type": "text"
      },
      "source": [
        "## Color Threshold for The Yellow Line"
      ]
    },
    {
      "cell_type": "code",
      "metadata": {
        "id": "3Ge3-vhX9FtE",
        "colab_type": "code",
        "colab": {}
      },
      "source": [
        "def yellow(img, yellow_thresh = (220,255)):\n",
        "    \n",
        "    #TODO: masking\n",
        "    binary = np.zeros_like(b_channel)\n",
        "     \n",
        "    return binary"
      ],
      "execution_count": 0,
      "outputs": []
    },
    {
      "cell_type": "markdown",
      "metadata": {
        "id": "27n0TwqD9FtI",
        "colab_type": "text"
      },
      "source": [
        "## Combined Threshold"
      ]
    },
    {
      "cell_type": "code",
      "metadata": {
        "id": "RFur7rNA9FtJ",
        "colab_type": "code",
        "colab": {}
      },
      "source": [
        "binary_white = white(task_image, white_thresh = (,))\n",
        "binary_yellow = yellow(task_image, yellow_thresh = (,))\n",
        "\n",
        "#TODO: combine both the white and yellow binaries in combined_binary\n",
        "binary_combined = np.zeros_like(binary_yellow)\n",
        "\n",
        "\n",
        "# visualize\n",
        "f, (ax1,ax2,ax3) = plt.subplots(1, 3, figsize=(20,10))\n",
        "ax1.set_title('1st channel', fontsize=20)\n",
        "ax1.imshow(binary_white,cmap='gray')\n",
        "ax2.set_title('2nd channel', fontsize=20)\n",
        "ax2.imshow(binary_yellow,cmap='gray')\n",
        "ax3.set_title('combined', fontsize=20)\n",
        "ax3.imshow(binary_combined,cmap='gray')"
      ],
      "execution_count": 0,
      "outputs": []
    },
    {
      "cell_type": "code",
      "metadata": {
        "id": "5hbaZ8zF9FtN",
        "colab_type": "code",
        "colab": {}
      },
      "source": [
        ""
      ],
      "execution_count": 0,
      "outputs": []
    },
    {
      "cell_type": "code",
      "metadata": {
        "id": "R2pUX4HN9FtP",
        "colab_type": "code",
        "colab": {}
      },
      "source": [
        ""
      ],
      "execution_count": 0,
      "outputs": []
    }
  ]
}