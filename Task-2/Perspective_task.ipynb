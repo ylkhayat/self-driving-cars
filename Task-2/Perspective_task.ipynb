{
  "nbformat": 4,
  "nbformat_minor": 0,
  "metadata": {
    "kernelspec": {
      "display_name": "Python 3",
      "language": "python",
      "name": "python3"
    },
    "language_info": {
      "codemirror_mode": {
        "name": "ipython",
        "version": 3
      },
      "file_extension": ".py",
      "mimetype": "text/x-python",
      "name": "python",
      "nbconvert_exporter": "python",
      "pygments_lexer": "ipython3",
      "version": "3.5.2"
    },
    "colab": {
      "name": "Perspective_task.ipynb",
      "provenance": [],
      "collapsed_sections": []
    }
  },
  "cells": [
    {
      "cell_type": "code",
      "metadata": {
        "id": "a_vrEfHz_qEs",
        "colab_type": "code",
        "colab": {}
      },
      "source": [
        "import numpy as np\n",
        "import cv2\n",
        "import matplotlib.pyplot as plt\n",
        "import matplotlib.image as mpimg\n",
        "%matplotlib inline"
      ],
      "execution_count": 0,
      "outputs": []
    },
    {
      "cell_type": "code",
      "metadata": {
        "id": "Ma8VmKDS_qEz",
        "colab_type": "code",
        "colab": {}
      },
      "source": [
        "def cameraCalibrate(image):\n",
        "    # Compute the camera calibration matrix and distortion coefficients given a set of chessboard images.\n",
        "    import glob\n",
        "\n",
        "    #read in and make a list of calibration images\n",
        "    images = glob.glob('./camera_cal/calibration*.jpg')\n",
        "\n",
        "    #Arrays to store objects points and image points from all the images\n",
        "    objpoints = [] #3d points\n",
        "    imgpoints = [] #2d points\n",
        "\n",
        "    #prepare points\n",
        "    objp  = np.zeros((9*6,3),np.float32)\n",
        "    objp[:,:2] = np.mgrid[0:9,0:6].T.reshape(-1,2)\n",
        "\n",
        "\n",
        "    for fname in images:\n",
        "        #read in each image\n",
        "        img = mpimg.imread(fname)\n",
        "        #convert image to gray scale  \n",
        "        gray  = cv2.cvtColor(img,cv2.COLOR_RGB2GRAY)\n",
        "        #find corners  \n",
        "        ret,corners = cv2.findChessboardCorners(gray,(9,6),None)\n",
        "        if ret == True:\n",
        "            imgpoints.append(corners)\n",
        "            objpoints.append(objp)\n",
        "            \n",
        "    shape =(img.shape[1],img.shape[0])\n",
        "    ret, mtx, dist, rvect, tvect = cv2.calibrateCamera(objpoints,imgpoints,shape,None,None)\n",
        "    \n",
        "    #undistored the image\n",
        "    undistorted_image = cv2.undistort(image, mtx, dist, None, mtx)\n",
        "    return undistorted_image"
      ],
      "execution_count": 0,
      "outputs": []
    },
    {
      "cell_type": "markdown",
      "metadata": {
        "id": "i1MLMqXt_qE3",
        "colab_type": "text"
      },
      "source": [
        "## Load Task Image"
      ]
    },
    {
      "cell_type": "code",
      "metadata": {
        "id": "NAMmJ5CX_qE4",
        "colab_type": "code",
        "colab": {}
      },
      "source": [
        "task_image = mpimg.imread('./test3.jpg')\n",
        "\n",
        "f, (ax1,ax2) = plt.subplots(1, 2, figsize=(20,10))\n",
        "ax1.set_title('Original image', fontsize=20)\n",
        "ax1.imshow(task_image)\n",
        "ax2.set_title('calibrated image', fontsize=20)\n",
        "ax2.imshow(cameraCalibrate(task_image))"
      ],
      "execution_count": 0,
      "outputs": []
    },
    {
      "cell_type": "markdown",
      "metadata": {
        "id": "_zOMNWc8_qE7",
        "colab_type": "text"
      },
      "source": [
        "## Src Points"
      ]
    },
    {
      "cell_type": "code",
      "metadata": {
        "id": "tHpEizp3_qE8",
        "colab_type": "code",
        "colab": {}
      },
      "source": [
        "# TODO: Source points\n",
        "# make sure that the points follow the right arrangement whether it's clockwise or counter-clockwise\n",
        "# source and destination points must have the same arrangement whether it's clockwise or counter-clockwise\n",
        "# The points in src array are (x,y).\n",
        "src = np.float32([[,],[,],\n",
        "                  [,],[,]])\n",
        "\n",
        "# visualize your mask region\n",
        "f, (ax1) = plt.subplots(1, 1, figsize=(20,10))\n",
        "ax1.set_title('source area', fontsize=20)\n",
        "ax1.imshow(task_image)\n",
        "ordered_y = [src[0][1],src[1][1],src[2][1],src[3][1],src[0][1]]\n",
        "ordered_x = [src[0][0],src[1][0],src[2][0],src[3][0],src[0][0]]\n",
        "ax1.plot(ordered_x,ordered_y , color='red', alpha=0.7,\n",
        "    linewidth=3, solid_capstyle='round', zorder=2)"
      ],
      "execution_count": 0,
      "outputs": []
    },
    {
      "cell_type": "markdown",
      "metadata": {
        "id": "rT5ZhFt0_qFA",
        "colab_type": "text"
      },
      "source": [
        "## Dst Points"
      ]
    },
    {
      "cell_type": "code",
      "metadata": {
        "id": "dy7Nya25_qFB",
        "colab_type": "code",
        "colab": {}
      },
      "source": [
        "# TODO: Destination points\n",
        "# make sure that the points follow the right arrangement whether it's clockwise or counter-clockwise\n",
        "# source and destination points must have the same arrangement whether it's clockwise or counter-clockwise\n",
        "# The points in src array are (x,y).\n",
        "dst = np.float32([[,],[,],\n",
        "                  [,],[,]])\n",
        "\n",
        "# visualize your mask region\n",
        "f, (ax1) = plt.subplots(1, 1, figsize=(20,10))\n",
        "ax1.set_title('destination area', fontsize=20)\n",
        "ax1.imshow(task_image)\n",
        "ordered_y = [dst[0][1],dst[1][1],dst[2][1],dst[3][1],dst[0][1]]\n",
        "ordered_x = [dst[0][0],dst[1][0],dst[2][0],dst[3][0],dst[0][0]]\n",
        "ax1.plot(ordered_x,ordered_y , color='red', alpha=0.7,\n",
        "    linewidth=3, solid_capstyle='round', zorder=2)"
      ],
      "execution_count": 0,
      "outputs": []
    },
    {
      "cell_type": "markdown",
      "metadata": {
        "id": "UmOnnFyf_qFE",
        "colab_type": "text"
      },
      "source": [
        "## Perspective Transformation"
      ]
    },
    {
      "cell_type": "code",
      "metadata": {
        "id": "BFRddxQ9_qFF",
        "colab_type": "code",
        "colab": {}
      },
      "source": [
        "def perspective_transform(undistorted):   \n",
        "    img_size = (undistorted.shape[1], undistorted.shape[0])\n",
        "    # TODO: Implement perspective transform\n",
        "    return transformed_img"
      ],
      "execution_count": 0,
      "outputs": []
    },
    {
      "cell_type": "markdown",
      "metadata": {
        "id": "lqge5uEq_qFI",
        "colab_type": "text"
      },
      "source": [
        "## Perspective Transformation result"
      ]
    },
    {
      "cell_type": "code",
      "metadata": {
        "id": "Mx_2xOLg_qFJ",
        "colab_type": "code",
        "colab": {}
      },
      "source": [
        "# Undistord the image then apply perspective transformation\n",
        "\n",
        "# visualize your results\n",
        "f, (ax1,ax2) = plt.subplots(1, 2, figsize=(20,10))\n",
        "ax1.set_title('Original image', fontsize=20)\n",
        "ax1.imshow(task_image)\n",
        "ax2.set_title('Transformed imagea', fontsize=20)\n",
        "ax2.imshow(transformed_img)"
      ],
      "execution_count": 0,
      "outputs": []
    },
    {
      "cell_type": "code",
      "metadata": {
        "id": "4MMoqIjV_qFM",
        "colab_type": "code",
        "colab": {}
      },
      "source": [
        ""
      ],
      "execution_count": 0,
      "outputs": []
    },
    {
      "cell_type": "code",
      "metadata": {
        "id": "jpiGUmXr_qFZ",
        "colab_type": "code",
        "colab": {}
      },
      "source": [
        ""
      ],
      "execution_count": 0,
      "outputs": []
    }
  ]
}