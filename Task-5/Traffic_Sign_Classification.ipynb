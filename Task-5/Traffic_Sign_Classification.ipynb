{
  "cells": [
    {
      "cell_type": "code",
      "metadata": {
        "deletable": true,
        "editable": true,
        "id": "ZwMg4FU0GhIG",
        "colab_type": "code",
        "colab": {},
        "outputId": "f67e2131-90f1-4b54-ca89-c6d0e8b8d696"
      },
      "source": [
        "import numpy as np\n",
        "from skimage import io, color, exposure, transform\n",
        "from sklearn.cross_validation import train_test_split\n",
        "import os\n",
        "import glob\n",
        "import h5py\n",
        "\n",
        "from keras.preprocessing.image import ImageDataGenerator\n",
        "from keras.models import Sequential, model_from_json\n",
        "from keras.layers.core import Dense, Dropout, Activation, Flatten\n",
        "from keras.layers.convolutional import Conv2D\n",
        "from keras.layers.pooling import MaxPooling2D\n",
        "\n",
        "from keras.optimizers import SGD\n",
        "from keras.utils import np_utils\n",
        "from keras.callbacks import LearningRateScheduler, ModelCheckpoint\n",
        "from keras import backend as K\n",
        "K.set_image_data_format('channels_first')\n",
        "\n",
        "from matplotlib import pyplot as plt\n",
        "%matplotlib inline\n",
        "\n",
        "NUM_CLASSES = 43\n",
        "IMG_SIZE = 48"
      ],
      "execution_count": null,
      "outputs": []
    },
    {
      "cell_type": "markdown",
      "metadata": {
        "deletable": true,
        "editable": true,
        "id": "TlRbNvCpGhIO",
        "colab_type": "text"
      },
      "source": [
        "## Function to preprocess the image:"
      ]
    },
    {
      "cell_type": "code",
      "metadata": {
        "deletable": true,
        "editable": true,
        "id": "Cye-t8EiGhIP",
        "colab_type": "code",
        "colab": {}
      },
      "source": [
        "def preprocess_img(img):\n",
        "    #TODO: do your image preprocessing here\n",
        "\n",
        "    return img\n",
        "\n",
        "\n",
        "def get_class(img_path):\n",
        "    return int(img_path.split('/')[-2])"
      ],
      "execution_count": null,
      "outputs": []
    },
    {
      "cell_type": "markdown",
      "metadata": {
        "deletable": true,
        "editable": true,
        "id": "b7tZCQVkGhIS",
        "colab_type": "text"
      },
      "source": [
        "## Preprocess all training images into a numpy array"
      ]
    },
    {
      "cell_type": "code",
      "metadata": {
        "deletable": true,
        "editable": true,
        "id": "EDy7N_fFGhIT",
        "colab_type": "code",
        "colab": {},
        "outputId": "20357f17-252b-4463-92f4-e1bb49b063ee"
      },
      "source": [
        "    root_dir = 'GTSRB/Final_Training/Images/'\n",
        "    imgs = []\n",
        "    labels = []\n",
        "\n",
        "    all_img_paths = glob.glob(os.path.join(root_dir, '*/*.ppm'))\n",
        "    np.random.shuffle(all_img_paths)\n",
        "    for img_path in all_img_paths:\n",
        "        try:\n",
        "            img = preprocess_img(io.imread(img_path))\n",
        "            label = get_class(img_path)\n",
        "            imgs.append(img)\n",
        "            labels.append(label)\n",
        "\n",
        "            if len(imgs)%1000 == 0: print(\"Processed {}/{}\".format(len(imgs), len(all_img_paths)))\n",
        "        except (IOError, OSError):\n",
        "            print('missed', img_path)\n",
        "            pass\n",
        "\n",
        "    X = np.array(imgs, dtype='float32')\n",
        "    Y = np.eye(NUM_CLASSES, dtype='uint8')[labels]\n"
      ],
      "execution_count": null,
      "outputs": []
    },
    {
      "cell_type": "markdown",
      "metadata": {
        "deletable": true,
        "editable": true,
        "id": "F_jhjvYLGhIW",
        "colab_type": "text"
      },
      "source": [
        "# Define Keras model"
      ]
    },
    {
      "cell_type": "code",
      "metadata": {
        "deletable": true,
        "editable": true,
        "id": "zUhnLK6wGhIW",
        "colab_type": "code",
        "colab": {}
      },
      "source": [
        "def cnn_model():\n",
        "    model = Sequential()\n",
        "\n",
        "    #TODO: Create your model here\n",
        "    return model\n",
        "\n",
        "model = cnn_model()\n"
      ],
      "execution_count": null,
      "outputs": []
    },
    {
      "cell_type": "markdown",
      "metadata": {
        "deletable": true,
        "editable": true,
        "id": "Fi0fbBPkGhIZ",
        "colab_type": "text"
      },
      "source": [
        "# Start Training"
      ]
    },
    {
      "cell_type": "code",
      "metadata": {
        "deletable": true,
        "editable": true,
        "id": "pUHrW2MXGhIa",
        "colab_type": "code",
        "colab": {}
      },
      "source": [
        "\n"
      ],
      "execution_count": null,
      "outputs": []
    },
    {
      "cell_type": "markdown",
      "metadata": {
        "deletable": true,
        "editable": true,
        "id": "hOT0SefPGhId",
        "colab_type": "text"
      },
      "source": [
        "# Load Test data"
      ]
    },
    {
      "cell_type": "code",
      "metadata": {
        "deletable": true,
        "editable": true,
        "id": "ghNkW7w0GhIe",
        "colab_type": "code",
        "colab": {}
      },
      "source": [
        "import pandas as pd\n",
        "test = pd.read_csv('GT-final_test.csv',sep=';')\n",
        "\n",
        "X_test = []\n",
        "y_test = []\n",
        "i = 0\n",
        "for file_name, class_id  in zip(list(test['Filename']), list(test['ClassId'])):\n",
        "    img_path = os.path.join('GTSRB/Final_Test/Images/',file_name)\n",
        "    X_test.append(preprocess_img(io.imread(img_path)))\n",
        "    y_test.append(class_id)\n",
        "    \n",
        "X_test = np.array(X_test)\n",
        "y_test = np.array(y_test)"
      ],
      "execution_count": null,
      "outputs": []
    },
    {
      "cell_type": "code",
      "metadata": {
        "deletable": true,
        "editable": true,
        "id": "fT-4sFhWGhIi",
        "colab_type": "code",
        "colab": {},
        "outputId": "c2bbd510-9176-4999-eb3f-fae4ffa181a2"
      },
      "source": [
        "y_pred = model.predict_classes(X_test)\n",
        "acc = np.sum(y_pred==y_test)/np.size(y_pred)\n",
        "print(\"Test accuracy = {}\".format(acc))"
      ],
      "execution_count": null,
      "outputs": []
    },
    {
      "cell_type": "code",
      "metadata": {
        "deletable": true,
        "editable": true,
        "id": "MLhMabTSGhI3",
        "colab_type": "code",
        "colab": {}
      },
      "source": [
        ""
      ],
      "execution_count": null,
      "outputs": []
    }
  ],
  "metadata": {
    "kernelspec": {
      "display_name": "Python 3",
      "language": "python",
      "name": "python3"
    },
    "language_info": {
      "codemirror_mode": {
        "name": "ipython",
        "version": 3
      },
      "file_extension": ".py",
      "mimetype": "text/x-python",
      "name": "python",
      "nbconvert_exporter": "python",
      "pygments_lexer": "ipython3",
      "version": "3.6.0"
    },
    "colab": {
      "name": "Traffic Sign Classification.ipynb",
      "provenance": [],
      "collapsed_sections": []
    }
  },
  "nbformat": 4,
  "nbformat_minor": 0
}